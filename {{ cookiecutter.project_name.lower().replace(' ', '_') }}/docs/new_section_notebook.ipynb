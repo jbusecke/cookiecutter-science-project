{
 "cells": [
  {
   "cell_type": "markdown",
   "metadata": {},
   "source": [
    "# Another section, but this is actually a Notebook 🤗\n",
    "\n",
    "This makes it super easy to wrap complex examples into the documentation. \n",
    "\n",
    "It supports\n",
    "\n",
    "- Markdown cells\n",
    "\n",
    "- Code\n",
    "\n",
    "    Both `inline` and separate cells"
   ]
  },
  {
   "cell_type": "code",
   "execution_count": null,
   "metadata": {},
   "outputs": [],
   "source": [
    "# Some pseudo code\n",
    "\n",
    "from cool_module import cool_function\n",
    "\n",
    "cool_function(a, b, b)"
   ]
  },
  {
   "cell_type": "markdown",
   "metadata": {},
   "source": [
    "And all the other fun stuff, like GIFs (absolutely essential to any of my workflows)\n",
    "\n",
    "![](https://media.giphy.com/media/q1MeAPDDMb43K/giphy.gif)"
   ]
  },
  {
   "cell_type": "code",
   "execution_count": null,
   "metadata": {},
   "outputs": [],
   "source": []
  }
 ],
 "metadata": {
  "kernelspec": {
   "display_name": "Python 3",
   "language": "python",
   "name": "python3"
  },
  "language_info": {
   "codemirror_mode": {
    "name": "ipython",
    "version": 3
   },
   "file_extension": ".py",
   "mimetype": "text/x-python",
   "name": "python",
   "nbconvert_exporter": "python",
   "pygments_lexer": "ipython3",
   "version": "3.8.5"
  }
 },
 "nbformat": 4,
 "nbformat_minor": 4
}
