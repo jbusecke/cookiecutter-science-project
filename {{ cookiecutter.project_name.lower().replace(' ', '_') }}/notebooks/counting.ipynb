{
 "cells": [
  {
   "cell_type": "markdown",
   "metadata": {},
   "source": [
    "# Here Comes Some Math! 🧮"
   ]
  },
  {
   "cell_type": "code",
   "execution_count": 1,
   "metadata": {},
   "outputs": [],
   "source": [
    "def first_odd_n_sum(n):\n",
    "    tot = 0 \n",
    "    for num in range(n):\n",
    "        tot += 2*num + 1\n",
    "    return tot"
   ]
  },
  {
   "cell_type": "code",
   "execution_count": 2,
   "metadata": {},
   "outputs": [],
   "source": [
    "import random\n",
    "n = random.randint(0, 1000000)"
   ]
  },
  {
   "cell_type": "code",
   "execution_count": 3,
   "metadata": {},
   "outputs": [
    {
     "name": "stdout",
     "output_type": "stream",
     "text": [
      "✨✨ Test passed ✨✨\n"
     ]
    }
   ],
   "source": [
    "if first_odd_n_sum(n) == n*n:\n",
    "    print('✨✨ Test passed ✨✨')\n",
    "else:\n",
    "    print('Test failed 😭')"
   ]
  }
 ],
 "metadata": {
  "kernelspec": {
   "display_name": "Python 3",
   "language": "python",
   "name": "python3"
  },
  "language_info": {
   "codemirror_mode": {
    "name": "ipython",
    "version": 3
   },
   "file_extension": ".py",
   "mimetype": "text/x-python",
   "name": "python",
   "nbconvert_exporter": "python",
   "pygments_lexer": "ipython3",
   "version": "3.9.6"
  },
  "widgets": {
   "application/vnd.jupyter.widget-state+json": {
    "state": {},
    "version_major": 2,
    "version_minor": 0
   }
  }
 },
 "nbformat": 4,
 "nbformat_minor": 4
}
